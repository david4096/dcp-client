{
 "cells": [
  {
   "cell_type": "markdown",
   "metadata": {},
   "source": [
    "# Download Data from DOS\n",
    "\n",
    "The Data Object Service schemas are designed to be neutral the various Object Storage environments and use cases where it might be useful. By remaining unopinionated about how objects themselves are accessed, implementors are able to design authentication and authorization scenarios that suit their needs.\n",
    "\n",
    "For example, by presenting a DOS alongside a URL signing microservice, it is possible to delegate auth concerns for Data Objects across multiple buckets. It is also useful to note that, depending on access level restrictions, a Data Object Service may expose no Data Objects to an unauthorized request. By decoupling data management from data access, DOS gives your service infrastructure a natural way to interoperate with existing services.\n",
    "\n",
    "\n",
    "## Using fence to create signed URLs\n",
    "\n",
    "UC-CDIS presents a system, called the gen3 platform, that can provide access level restrictions for both data and metadata. This means that an unauthorized account may access the platform, see that data is present, but then must reauthorize in order to download data. Signed URLs provide a way to generate temporary access links that can be used from a simple HTTP client.\n",
    "\n",
    "It's important to note that DOS is unopinionated about the nature of URLs it presents. Oftentimes object stores provide clients that outperform signed URLs, and depending on the use case, are the preferred method of access.\n",
    "\n",
    "Let's now get an item from indexd via DOS and pass it off to fence for downloading. To pull this off, we first downloaded the `credentials.json` from https://dcp.bionimbus.org/identity and use the `dcp-client`, which adds the necessary authorization headers."
   ]
  },
  {
   "cell_type": "code",
   "execution_count": 1,
   "metadata": {},
   "outputs": [
    {
     "name": "stdout",
     "output_type": "stream",
     "text": [
      "Using credentials.json to get an access token.\n",
      "Getting access token from https://dcp.bionimbus.org/user/credentials/cdis/access_token .\n"
     ]
    }
   ],
   "source": [
    "from dcp.client import Client\n",
    "\n",
    "c = Client()"
   ]
  },
  {
   "cell_type": "markdown",
   "metadata": {},
   "source": [
    "We then get an ID from the commons sample data and use its data guid to render a signed URL. Although these data are replicated on S3, the Data Object metadata can be used to generate signed URLs from a variety of backing stores."
   ]
  },
  {
   "cell_type": "code",
   "execution_count": 10,
   "metadata": {},
   "outputs": [
    {
     "name": "stdout",
     "output_type": "stream",
     "text": [
      "https://storage.googleapis.com/cgp-commons-multi-region-public/topmed_open_access/bd91f499-1620-5500\n"
     ]
    }
   ],
   "source": [
    "my_guid = \"dg.4503/b1dcfdbe-4314-4efd-8f52-559435188b40\"\n",
    "url = c.get_download_url(my_guid)\n",
    "print(url[0:100])"
   ]
  },
  {
   "cell_type": "markdown",
   "metadata": {},
   "source": [
    "Now that we have a signed URL, we can use a simple HTTP client to download the file for a short time."
   ]
  },
  {
   "cell_type": "markdown",
   "metadata": {},
   "source": [
    "## Conclusion\n",
    "\n",
    "The Data Object Service schemas intentionally leave up to implementors the details of downloading data. In this notebook we accessed a Data Object hosted by the gen3 platform which was under access control."
   ]
  },
  {
   "cell_type": "code",
   "execution_count": null,
   "metadata": {},
   "outputs": [],
   "source": []
  }
 ],
 "metadata": {
  "kernelspec": {
   "display_name": "Python 2",
   "language": "python",
   "name": "python2"
  },
  "language_info": {
   "codemirror_mode": {
    "name": "ipython",
    "version": 2
   },
   "file_extension": ".py",
   "mimetype": "text/x-python",
   "name": "python",
   "nbconvert_exporter": "python",
   "pygments_lexer": "ipython2",
   "version": "2.7.15rc1"
  }
 },
 "nbformat": 4,
 "nbformat_minor": 2
}
